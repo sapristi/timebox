{
 "cells": [
  {
   "cell_type": "code",
   "execution_count": null,
   "id": "9823726c-88bb-4796-9bd3-490771abfc24",
   "metadata": {
    "tags": []
   },
   "outputs": [],
   "source": [
    "import matplotlib.pyplot as plt\n",
    "import numpy as np\n",
    "from dataclasses import dataclass"
   ]
  },
  {
   "cell_type": "code",
   "execution_count": null,
   "id": "e64a7da8-9aac-4022-8dba-92bacadf3110",
   "metadata": {
    "tags": []
   },
   "outputs": [],
   "source": [
    "@dataclass\n",
    "class Line:\n",
    "    start: int\n",
    "    duration: int\n",
    "    cut: bool =  False\n",
    "\n",
    "    def line(self):\n",
    "        return plt.Line2D((0,self.duration), (self.start, self.duration+self.start), lw=2)\n",
    "    \n",
    "def plot_lines(ax, lines):\n",
    "    for l in lines:\n",
    "        ax.add_line(l.line())\n",
    "    ax.plot([0]*len(lines), [l.start for l in lines], marker='o', markersize=10, color=\"green\", label=\"creation\")\n",
    "    ax.plot([l.duration for l in lines], [l.duration+l.start for l in lines], marker='x', markersize=10, color=\"red\", label=\"deletion\", linestyle = 'None')"
   ]
  },
  {
   "cell_type": "code",
   "execution_count": null,
   "id": "7f8a9a61-b8a2-4aa1-9b23-85f3673d967c",
   "metadata": {
    "tags": []
   },
   "outputs": [],
   "source": [
    "def setup(sizex, sizey, base):\n",
    "    fig, ax = plt.subplots(figsize=(20,10))\n",
    "    \n",
    "    major_yticks = np.arange(0, sizey, base)\n",
    "    major_xticks = np.power(2, np.arange(0, sizex, 1))\n",
    "\n",
    "    ax.set_xticks(major_xticks)\n",
    "    ax.set_xticks(np.arange(0, sizex, 1), minor=True)\n",
    "    ax.set_yticks(major_yticks)\n",
    "    ax.set_yticks(np.arange(0, sizey, 1), minor=True)\n",
    "\n",
    "    ax.grid(which='minor', alpha=0.2)\n",
    "    ax.grid(which='major', alpha=0.5)\n",
    "\n",
    "    ax.set_xlim(-1, sizex)\n",
    "    ax.set_ylim(-1, sizey)\n",
    "    return fig, ax"
   ]
  },
  {
   "cell_type": "code",
   "execution_count": null,
   "id": "7fae679c-6e0d-49bb-a684-69c338c7690f",
   "metadata": {
    "tags": []
   },
   "outputs": [],
   "source": [
    "def compute_duration(start, base):\n",
    "    for i in range(base):\n",
    "        if (start - (2 ** i)) % 2**(i+1) == 0:\n",
    "            return 2**(i+1)\n",
    "    return 2 ** (base+1)\n",
    "def generate_lines(num, base):\n",
    "    return [\n",
    "        Line(start=i, duration=compute_duration(i, base))\n",
    "        for i in range(0, num)\n",
    "    ]"
   ]
  },
  {
   "cell_type": "code",
   "execution_count": null,
   "id": "27e98493-f68d-4363-aad6-b46325cbf16a",
   "metadata": {
    "tags": []
   },
   "outputs": [],
   "source": [
    "BASE = 3\n",
    "\n",
    "fig, ax = setup(20, 30, BASE)\n",
    "ax.set_xlabel(\"Days elapsed\")\n",
    "ax.set_ylabel(\"Start day elapsed\")\n",
    "\n",
    "plot_lines(ax, generate_lines(50, BASE))\n",
    "fig.suptitle(f\"Decaying rotation for base {BASE}\")\n",
    "plt.legend()\n",
    "fig.savefig(\"base3.png\", bbox_inches='tight', pad_inches=0.1, facecolor='#b4cbd1')"
   ]
  },
  {
   "cell_type": "code",
   "execution_count": null,
   "id": "06880249-6b01-482c-9b7c-c8d2359728e0",
   "metadata": {
    "tags": []
   },
   "outputs": [],
   "source": [
    "BASE = 4\n",
    "\n",
    "fig, ax = setup(40, 60, BASE)\n",
    "ax.set_xlabel(\"Days elapsed\")\n",
    "ax.set_ylabel(\"Start day elapsed\")\n",
    "\n",
    "plot_lines(ax, generate_lines(65, BASE))\n",
    "fig.suptitle(f\"Decaying rotation for base {BASE}\")\n",
    "plt.legend()\n",
    "fig.savefig(\"base4.png\", bbox_inches='tight', pad_inches=0.1, facecolor='#b4cbd1')"
   ]
  }
 ],
 "metadata": {
  "kernelspec": {
   "display_name": "Python 3 (ipykernel)",
   "language": "python",
   "name": "python3"
  },
  "language_info": {
   "codemirror_mode": {
    "name": "ipython",
    "version": 3
   },
   "file_extension": ".py",
   "mimetype": "text/x-python",
   "name": "python",
   "nbconvert_exporter": "python",
   "pygments_lexer": "ipython3",
   "version": "3.10.2"
  }
 },
 "nbformat": 4,
 "nbformat_minor": 5
}
